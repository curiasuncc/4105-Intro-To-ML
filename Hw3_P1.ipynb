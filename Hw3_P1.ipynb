{
  "nbformat": 4,
  "nbformat_minor": 0,
  "metadata": {
    "colab": {
      "provenance": [],
      "authorship_tag": "ABX9TyP0jpYNCWbNAvoAw36DCTzA",
      "include_colab_link": true
    },
    "kernelspec": {
      "name": "python3",
      "display_name": "Python 3"
    },
    "language_info": {
      "name": "python"
    }
  },
  "cells": [
    {
      "cell_type": "markdown",
      "metadata": {
        "id": "view-in-github",
        "colab_type": "text"
      },
      "source": [
        "<a href=\"https://colab.research.google.com/github/curiasuncc/4105-Intro-To-ML/blob/main/Hw3_P1.ipynb\" target=\"_parent\"><img src=\"https://colab.research.google.com/assets/colab-badge.svg\" alt=\"Open In Colab\"/></a>"
      ]
    },
    {
      "cell_type": "code",
      "execution_count": 7,
      "metadata": {
        "id": "tNPVXeLnMEvT"
      },
      "outputs": [],
      "source": [
        "import numpy as np \n",
        "import matplotlib.pyplot as plt \n",
        "import pandas as pd\n",
        "from sklearn.datasets import load_breast_cancer  \n",
        "\n",
        "from sklearn import datasets\n",
        "from sklearn import metrics\n",
        "from sklearn.naive_bayes import GaussianNB"
      ]
    },
    {
      "cell_type": "code",
      "source": [
        "#Load the cancer dataset\n",
        "breast = load_breast_cancer() \n",
        "\n",
        "#breast_data = breast.data \n",
        "#breast_data.shape"
      ],
      "metadata": {
        "id": "gtAc8QWvfgj2"
      },
      "execution_count": 8,
      "outputs": []
    },
    {
      "cell_type": "code",
      "source": [
        "#fit a naive base model on the data\n",
        "model= GaussianNB()"
      ],
      "metadata": {
        "id": "FrvwA1yYg91u"
      },
      "execution_count": 9,
      "outputs": []
    },
    {
      "cell_type": "code",
      "source": [
        "model.fit(breast.data,breast.target)\n",
        "print(model)\n"
      ],
      "metadata": {
        "colab": {
          "base_uri": "https://localhost:8080/"
        },
        "id": "-_R_39QMg96_",
        "outputId": "2b998985-7e8b-4c60-a451-a4f643de9766"
      },
      "execution_count": 10,
      "outputs": [
        {
          "output_type": "stream",
          "name": "stdout",
          "text": [
            "GaussianNB()\n"
          ]
        }
      ]
    },
    {
      "cell_type": "code",
      "source": [
        "#make predictions\n",
        "expected=breast.target\n",
        "predicted= model.predict(breast.data)"
      ],
      "metadata": {
        "id": "lqeKwqmGg99i"
      },
      "execution_count": 11,
      "outputs": []
    },
    {
      "cell_type": "code",
      "source": [
        "#summarize the fit of the model\n",
        "print(metrics.classification_report(expected,predicted))\n",
        "print(metrics.confusion_matrix(expected,predicted))"
      ],
      "metadata": {
        "colab": {
          "base_uri": "https://localhost:8080/"
        },
        "id": "N13HnvT5g-AB",
        "outputId": "544dda95-3006-4f47-954a-8207398d023c"
      },
      "execution_count": 12,
      "outputs": [
        {
          "output_type": "stream",
          "name": "stdout",
          "text": [
            "              precision    recall  f1-score   support\n",
            "\n",
            "           0       0.95      0.89      0.92       212\n",
            "           1       0.94      0.97      0.95       357\n",
            "\n",
            "    accuracy                           0.94       569\n",
            "   macro avg       0.94      0.93      0.94       569\n",
            "weighted avg       0.94      0.94      0.94       569\n",
            "\n",
            "[[189  23]\n",
            " [ 10 347]]\n"
          ]
        }
      ]
    },
    {
      "cell_type": "markdown",
      "source": [
        "features_labels = np.append(features,'label') \n",
        "breast_dataset.columns = features_labels \n",
        "breast_dataset.head() "
      ],
      "metadata": {
        "id": "4yc_dxQMgVvf"
      }
    }
  ]
}