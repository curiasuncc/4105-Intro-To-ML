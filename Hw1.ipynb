{
  "nbformat": 4,
  "nbformat_minor": 0,
  "metadata": {
    "colab": {
      "provenance": [],
      "collapsed_sections": [],
      "authorship_tag": "ABX9TyNnDWg87n34uezkWWrinpKS",
      "include_colab_link": true
    },
    "kernelspec": {
      "name": "python3",
      "display_name": "Python 3"
    },
    "language_info": {
      "name": "python"
    }
  },
  "cells": [
    {
      "cell_type": "markdown",
      "metadata": {
        "id": "view-in-github",
        "colab_type": "text"
      },
      "source": [
        "<a href=\"https://colab.research.google.com/github/curiasuncc/4105-Intro-To-ML/blob/main/Hw1.ipynb\" target=\"_parent\"><img src=\"https://colab.research.google.com/assets/colab-badge.svg\" alt=\"Open In Colab\"/></a>"
      ]
    },
    {
      "cell_type": "code",
      "execution_count": null,
      "metadata": {
        "id": "ZH4Q0ZMHB4ih"
      },
      "outputs": [],
      "source": [
        "import numpy as np \n",
        "import pandas as pd \n",
        "import matplotlib.pyplot as plt "
      ]
    },
    {
      "cell_type": "code",
      "source": [
        "#training set 436 values (80%)\n",
        "df = pd.read_csv('/content/Housing.csv',nrows=436)\n",
        "df.head() # To get first n rows from the dataset default value of n is 5 \n",
        "TRAIN=len(df) \n",
        "print(TRAIN) \n",
        "#evaluation set 109 values (20%)\n",
        "dg = pd.read_csv('/content/Housing.csv',skiprows=436)\n",
        "dg.head()\n",
        "EVAL=len(dg)\n",
        "print(EVAL)"
      ],
      "metadata": {
        "colab": {
          "base_uri": "https://localhost:8080/"
        },
        "id": "eOGeQnulDncV",
        "outputId": "ac4ac058-e81a-4bd2-bdd4-e79c9cfcc62a"
      },
      "execution_count": null,
      "outputs": [
        {
          "output_type": "stream",
          "name": "stdout",
          "text": [
            "436\n",
            "109\n"
          ]
        }
      ]
    },
    {
      "cell_type": "code",
      "source": [
        "#from pickle import EXT2\n",
        "T1 = df.values[:, 1]  # get training input values from 2nd column,area \n",
        "T2 = df.values[:, 2]  # get training input values from 3rd column,bedrooms \n",
        "T3 = df.values[:, 3]  # get training input values from 4th column,bathrooms \n",
        "T4 = df.values[:, 4]  # get training input values from 5th column,stories \n",
        "T9 = df.values[:, 10]  # get training input values from 10th column,parking\n",
        "E1 = dg.values[:, 1]   # get evaluation input values from 2nd column,area\n",
        "E2 = dg.values[:, 2]  # get evaluation input values from 2nd column,area\n",
        "E3 = dg.values[:, 3]  # get evaluation input values from 2nd column,area\n",
        "E4 = dg.values[:, 4]  # get evaluation input values from 2nd column,area\n",
        "E9 = dg.values[:, 10] # get evaluation input values from 2nd column,area\n",
        "#X=X1+X2+X3+X4+X5\n",
        "#print(X.shape)         \n",
        "y = df.values[:, 0]  # get training output values from 1st column.house price \n",
        "yy = dg.values[:, 0]  # get evaluation output values from 1st column.house price\n",
        "m = len(y) # Number of training examples \n",
        "mm= len(yy) # Number of evaluation examples \n",
        "print('X = ', X1[: 5]) # Show only first 5 records \n",
        "print('y = ', y[: 5]) \n",
        "print('m = ', m) \n",
        "print('mm = ', mm) "
      ],
      "metadata": {
        "id": "nitSOV8qDnic",
        "colab": {
          "base_uri": "https://localhost:8080/"
        },
        "outputId": "62e6ba8d-1da0-4af1-be1e-674f341c8494"
      },
      "execution_count": null,
      "outputs": [
        {
          "output_type": "stream",
          "name": "stdout",
          "text": [
            "X =  [7420 8960 9960 7500 7420]\n",
            "y =  [13300000 12250000 12250000 12215000 11410000]\n",
            "m =  436\n",
            "mm =  109\n"
          ]
        }
      ]
    },
    {
      "cell_type": "code",
      "source": [
        "\n",
        "#X = df.values[:, 0]  # get input values from first column \n",
        "#y = df.values[:, 1]  # get output values from second column \n",
        "#m = len(y) # Number of training examples \n",
        "#print('X = ', X[: 97]) # Show only first 5 records \n",
        "#print('y = ', y[: 97]) \n",
        "#print('m = ', m) "
      ],
      "metadata": {
        "id": "EdC2y08GDnmV"
      },
      "execution_count": null,
      "outputs": []
    },
    {
      "cell_type": "code",
      "source": [
        "plt.scatter(X1,y, color='red',marker= '+') \n",
        "plt.grid() \n",
        "plt.rcParams[\"figure.figsize\"] = (10,6) \n",
        "plt.xlabel('X') \n",
        "plt.ylabel('House Price') \n",
        "plt.title('Scatter plot of training data') "
      ],
      "metadata": {
        "id": "ywZP07_KDnpF",
        "colab": {
          "base_uri": "https://localhost:8080/",
          "height": 421
        },
        "outputId": "2b145c46-feb5-45a0-acd5-9b589be16c46"
      },
      "execution_count": null,
      "outputs": [
        {
          "output_type": "execute_result",
          "data": {
            "text/plain": [
              "Text(0.5, 1.0, 'Scatter plot of training data')"
            ]
          },
          "metadata": {},
          "execution_count": 73
        },
        {
          "output_type": "display_data",
          "data": {
            "text/plain": [
              "<Figure size 720x432 with 1 Axes>"
            ],
            "image/png": "[encoded data removed]"
          },
          "metadata": {
            "needs_background": "light"
          }
        }
      ]
    },
    {
      "cell_type": "code",
      "source": [
        "#Lets create a matrix with single column of ones \n",
        "T_0 = np.ones((m, 1)) \n",
        "#T_0[:5] \n",
        "E_0 = np.ones((mm, 1)) \n",
        "#E_0[:5] "
      ],
      "metadata": {
        "id": "OHyt7rMRDnrt"
      },
      "execution_count": null,
      "outputs": []
    },
    {
      "cell_type": "code",
      "source": [
        "# Using reshape function convert X 1D array to 2D array of dimension mx1 \n",
        "T_1 = T1.reshape(m, 1) \n",
        "T_2 = T2.reshape(m, 1)\n",
        "T_3 = T3.reshape(m, 1)\n",
        "T_4 = T4.reshape(m, 1)\n",
        "T_9 = T9.reshape(m, 1)\n",
        "#T_1[:10] \n",
        "E_1 = E1.reshape(mm, 1) \n",
        "E_2 = E2.reshape(mm, 1)\n",
        "E_3 = E3.reshape(mm, 1)\n",
        "E_4 = E4.reshape(mm, 1)\n",
        "E_9 = E9.reshape(mm, 1)\n",
        "#E_1[:10]"
      ],
      "metadata": {
        "id": "huEXulIADnuN",
        "colab": {
          "base_uri": "https://localhost:8080/"
        },
        "outputId": "be6d3937-197e-4a0c-93a6-87c04a267a7f"
      },
      "execution_count": null,
      "outputs": [
        {
          "output_type": "execute_result",
          "data": {
            "text/plain": [
              "array([[2145],\n",
              "       [5880],\n",
              "       [4500],\n",
              "       [3930],\n",
              "       [3640],\n",
              "       [4370],\n",
              "       [2684],\n",
              "       [4320],\n",
              "       [3120],\n",
              "       [3450]], dtype=object)"
            ]
          },
          "metadata": {},
          "execution_count": 34
        }
      ]
    },
    {
      "cell_type": "code",
      "source": [
        "# Lets use hstack() function from numpy to stack X_0 and X_1 horizontally (i.e. column \n",
        "# This will be our final X matrix (feature matrix) \n",
        "X = np.hstack((T_0, T_1, T_2, T_3, T_4, T_9)) \n",
        "XX = np.hstack((E_0, E_1, E_2, E_3, E_4, E_9))\n",
        "XX[:5] "
      ],
      "metadata": {
        "id": "bY48kO4kDnwk",
        "colab": {
          "base_uri": "https://localhost:8080/"
        },
        "outputId": "f479f288-771a-4b1b-ae98-c479215364da"
      },
      "execution_count": null,
      "outputs": [
        {
          "output_type": "execute_result",
          "data": {
            "text/plain": [
              "array([[1.0, 2145, 3, 1, 2, 0],\n",
              "       [1.0, 5880, 3, 1, 1, 1],\n",
              "       [1.0, 4500, 2, 1, 1, 0],\n",
              "       [1.0, 3930, 2, 1, 1, 0],\n",
              "       [1.0, 3640, 4, 1, 2, 0]], dtype=object)"
            ]
          },
          "metadata": {},
          "execution_count": 35
        }
      ]
    },
    {
      "cell_type": "code",
      "source": [
        "thetaT = np.zeros(6)  #train thetas \n",
        "thetaE = np.zeros(6)  #eval thetas \n",
        "#theta "
      ],
      "metadata": {
        "id": "kkzJfn76Dny2",
        "colab": {
          "base_uri": "https://localhost:8080/"
        },
        "outputId": "41ae4782-b6ab-4d44-a051-ecf051d80da4"
      },
      "execution_count": null,
      "outputs": [
        {
          "output_type": "execute_result",
          "data": {
            "text/plain": [
              "array([0., 0., 0., 0., 0., 0.])"
            ]
          },
          "metadata": {},
          "execution_count": 36
        }
      ]
    },
    {
      "cell_type": "code",
      "source": [
        "def compute_cost(X, y, theta): \n",
        "  \"\"\" \n",
        "  Compute cost for linear regression. \n",
        " \n",
        "  Input Parameters \n",
        "  ---------------- \n",
        "  X : 2D array where each row represent the training example and each column represent \n",
        "      m= number of training examples \n",
        "      n= number of features (including X_0 column of ones) \n",
        "  y : 1D array of labels/target value for each traing example. dimension(1 x m) \n",
        " \n",
        "  theta : 1D array of fitting parameters or weights. Dimension (1 x n) \n",
        " \n",
        "  Output Parameters \n",
        "  ----------------- \n",
        "  J : Scalar value. \n",
        "  \"\"\" \n",
        "  predictions = X.dot(theta) \n",
        "  errors = np.subtract(predictions, y) \n",
        "  sqrErrors = np.square(errors) \n",
        "  J = 1 / (2 * m) * np.sum(sqrErrors) \n",
        " \n",
        "  return J "
      ],
      "metadata": {
        "id": "_g5fyl2nDn1V"
      },
      "execution_count": null,
      "outputs": []
    },
    {
      "cell_type": "code",
      "source": [
        "\n",
        "# Lets compute the cost for theta values \n",
        "costT = compute_cost(X, y, thetaT) #train cost\n",
        "costE = compute_cost(X, y, thetaE) #eval cost\n",
        "print('The cost for given values of theta =', costT) "
      ],
      "metadata": {
        "id": "amd54FoLDn3t",
        "colab": {
          "base_uri": "https://localhost:8080/"
        },
        "outputId": "978e3738-3668-430f-b55d-5cdb49510428"
      },
      "execution_count": null,
      "outputs": [
        {
          "output_type": "stream",
          "name": "stdout",
          "text": [
            "The cost for given values of theta_0 and theta_1 = 13106916364659.268\n"
          ]
        }
      ]
    },
    {
      "cell_type": "code",
      "source": [
        "def gradient_descent(X, y, theta, alpha, iterations): \n",
        "  \"\"\" \n",
        "  Compute cost for linear regression. \n",
        " \n",
        "  Input Parameters \n",
        "  ---------------- \n",
        "  X : 2D array where each row represent the training example and each column represent \n",
        "      m= number of training examples \n",
        "      n= number of features (including X_0 column of ones) \n",
        "  y : 1D array of labels/target value for each traing example. dimension(m x 1) \n",
        "  theta : 1D array of fitting parameters or weights. Dimension (1 x n) \n",
        "  alpha : Learning rate. Scalar value \n",
        "  iterations: No of iterations. Scalar value.  \n",
        " \n",
        "  Output Parameters \n",
        "  ----------------- \n",
        "  theta : Final Value. 1D array of fitting parameters or weights. Dimension (1 x n) \n",
        "  cost_history: Conatins value of cost for each iteration. 1D array. Dimansion(m x 1) \n",
        "  \"\"\" \n",
        "  cost_history = np.zeros(iterations) \n",
        " \n",
        "  for i in range(iterations): \n",
        "    predictions = X.dot(theta) \n",
        "    errors = np.subtract(predictions, y) \n",
        "    sum_delta = (alpha / m) * X.transpose().dot(errors); \n",
        "    theta = theta - sum_delta; \n",
        "    cost_history[i] = compute_cost(X, y, theta)   \n",
        " \n",
        "  return theta, cost_history "
      ],
      "metadata": {
        "id": "S-PIRad7Dn6N"
      },
      "execution_count": null,
      "outputs": []
    },
    {
      "cell_type": "code",
      "source": [
        "theta = [0., 0., 0., 0., 0., 0.] \n",
        "iterations = 1500;  #1500\n",
        "alpha = 0.01; "
      ],
      "metadata": {
        "id": "14lS5odQDn8l"
      },
      "execution_count": null,
      "outputs": []
    },
    {
      "cell_type": "code",
      "source": [
        "thetaT, cost_history = gradient_descent(X, y, thetaT, alpha, iterations) \n",
        "print('Final value of theta =', theta) \n",
        "print('cost_history =', cost_history) "
      ],
      "metadata": {
        "id": "ZdnZcPb9Dn_G",
        "colab": {
          "base_uri": "https://localhost:8080/"
        },
        "outputId": "0ef9b42b-ba3e-4e51-8b20-1ce5d337052a"
      },
      "execution_count": null,
      "outputs": [
        {
          "output_type": "stream",
          "name": "stderr",
          "text": [
            "/usr/local/lib/python3.7/dist-packages/ipykernel_launcher.py:20: RuntimeWarning: overflow encountered in square\n",
            "/usr/local/lib/python3.7/dist-packages/ipykernel_launcher.py:26: RuntimeWarning: invalid value encountered in subtract\n"
          ]
        },
        {
          "output_type": "stream",
          "name": "stdout",
          "text": [
            "Final value of theta = [nan nan nan nan nan nan]\n",
            "cost_history = [1.11504603e+24 1.08743937e+35 1.06051620e+46 ...            nan\n",
            "            nan            nan]\n"
          ]
        }
      ]
    },
    {
      "cell_type": "code",
      "source": [
        "# Since X is list of list (feature matrix) lets take values of column of index 1 only \n",
        "plt.scatter(X[:,1], y, color='red', marker= '+', label= 'Training Data') \n",
        "plt.plot(X[:,1],X.dot(theta), color='green', label='Linear Regression') \n",
        " \n",
        "plt.rcParams[\"figure.figsize\"] = (10,6) \n",
        "plt.grid() \n",
        "plt.xlabel('X') \n",
        "plt.ylabel('Y') \n",
        "plt.title('Linear Regression Fit') \n",
        "plt.legend() "
      ],
      "metadata": {
        "id": "a6l-ubXqDoBd",
        "colab": {
          "base_uri": "https://localhost:8080/",
          "height": 421
        },
        "outputId": "c3a2912d-200d-4208-b1b6-a6e3d8a1b2c4"
      },
      "execution_count": null,
      "outputs": [
        {
          "output_type": "execute_result",
          "data": {
            "text/plain": [
              "<matplotlib.legend.Legend at 0x7f3e4322ab50>"
            ]
          },
          "metadata": {},
          "execution_count": 95
        },
        {
          "output_type": "display_data",
          "data": {
            "text/plain": [
              "<Figure size 720x432 with 1 Axes>"
            ],
            "image/png": "[encoded data removed]"
          },
          "metadata": {
            "needs_background": "light"
          }
        }
      ]
    },
    {
      "cell_type": "code",
      "source": [
        "plt.plot(range(1, iterations + 1),cost_history, color='blue') \n",
        "plt.rcParams[\"figure.figsize\"] = (10,6) \n",
        "plt.grid() \n",
        "plt.xlabel('Number of iterations') \n",
        "plt.ylabel('Cost (J)') \n",
        "plt.title('Convergence of gradient descent') "
      ],
      "metadata": {
        "id": "CMf3jvVIDoDl",
        "colab": {
          "base_uri": "https://localhost:8080/",
          "height": 421
        },
        "outputId": "7ff33f7e-4938-41f2-fdca-ef21a55fe65a"
      },
      "execution_count": null,
      "outputs": [
        {
          "output_type": "execute_result",
          "data": {
            "text/plain": [
              "Text(0.5, 1.0, 'Convergence of gradient descent')"
            ]
          },
          "metadata": {},
          "execution_count": 96
        },
        {
          "output_type": "display_data",
          "data": {
            "text/plain": [
              "<Figure size 720x432 with 1 Axes>"
            ],
            "image/png": "[encoded data removed]"
          },
          "metadata": {
            "needs_background": "light"
          }
        }
      ]
    }
  ]
}