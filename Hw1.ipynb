{
  "nbformat": 4,
  "nbformat_minor": 0,
  "metadata": {
    "colab": {
      "provenance": [],
      "collapsed_sections": [],
      "authorship_tag": "ABX9TyNd2AWX43+2aPRBQVNLSu4/",
      "include_colab_link": true
    },
    "kernelspec": {
      "name": "python3",
      "display_name": "Python 3"
    },
    "language_info": {
      "name": "python"
    }
  },
  "cells": [
    {
      "cell_type": "markdown",
      "metadata": {
        "id": "view-in-github",
        "colab_type": "text"
      },
      "source": [
        "<a href=\"https://colab.research.google.com/github/curiasuncc/4105-Intro-To-ML/blob/main/Hw1.ipynb\" target=\"_parent\"><img src=\"https://colab.research.google.com/assets/colab-badge.svg\" alt=\"Open In Colab\"/></a>"
      ]
    },
    {
      "cell_type": "code",
      "execution_count": null,
      "metadata": {
        "id": "ZH4Q0ZMHB4ih"
      },
      "outputs": [],
      "source": [
        "import numpy as np \n",
        "import pandas as pd \n",
        "import matplotlib.pyplot as plt "
      ]
    },
    {
      "cell_type": "code",
      "source": [
        "df = pd.read_csv('/content/Housing.csv')\n",
        "df.head() # To get first n rows from the dataset default value of n is 5 \n",
        "M=len(df) \n",
        "M "
      ],
      "metadata": {
        "colab": {
          "base_uri": "https://localhost:8080/"
        },
        "id": "eOGeQnulDncV",
        "outputId": "7a7e4595-7e5e-4065-b0f0-24f2347befa1"
      },
      "execution_count": null,
      "outputs": [
        {
          "output_type": "execute_result",
          "data": {
            "text/plain": [
              "545"
            ]
          },
          "metadata": {},
          "execution_count": 4
        }
      ]
    },
    {
      "cell_type": "code",
      "source": [
        "X1 = df.values[:, 1]  # get input values from 2nd column,area \n",
        "X2 = df.values[:, 2]  # get input values from 3rd column,bedrooms \n",
        "X3 = df.values[:, 3]  # get input values from 4th column,bathrooms \n",
        "X4 = df.values[:, 4]  # get input values from 5th column,stories \n",
        "X5 = df.values[:, 10]  # get input values from 10th column,parking\n",
        "X=X1+X2+X3+X4+X5\n",
        "szz=X.getsizeof()\n",
        "y = df.values[:, 0]  # get output values from 1st column.house price \n",
        "m = len(y) # Number of training examples \n",
        "print('X = ', X[: 5]) # Show only first 5 records \n",
        "print('y = ', y[: 5]) \n",
        "print('m = ', m) "
      ],
      "metadata": {
        "id": "nitSOV8qDnic",
        "colab": {
          "base_uri": "https://localhost:8080/",
          "height": 235
        },
        "outputId": "cf6966aa-7aaf-429b-8f96-035257d159d9"
      },
      "execution_count": null,
      "outputs": [
        {
          "output_type": "error",
          "ename": "AttributeError",
          "evalue": "ignored",
          "traceback": [
            "\u001b[0;31m---------------------------------------------------------------------------\u001b[0m",
            "\u001b[0;31mAttributeError\u001b[0m                            Traceback (most recent call last)",
            "\u001b[0;32m<ipython-input-5-3e6c2e7a78fb>\u001b[0m in \u001b[0;36m<module>\u001b[0;34m\u001b[0m\n\u001b[1;32m      5\u001b[0m \u001b[0mX5\u001b[0m \u001b[0;34m=\u001b[0m \u001b[0mdf\u001b[0m\u001b[0;34m.\u001b[0m\u001b[0mvalues\u001b[0m\u001b[0;34m[\u001b[0m\u001b[0;34m:\u001b[0m\u001b[0;34m,\u001b[0m \u001b[0;36m10\u001b[0m\u001b[0;34m]\u001b[0m  \u001b[0;31m# get input values from 10th column,parking\u001b[0m\u001b[0;34m\u001b[0m\u001b[0;34m\u001b[0m\u001b[0m\n\u001b[1;32m      6\u001b[0m \u001b[0mX\u001b[0m\u001b[0;34m=\u001b[0m\u001b[0mX1\u001b[0m\u001b[0;34m+\u001b[0m\u001b[0mX2\u001b[0m\u001b[0;34m+\u001b[0m\u001b[0mX3\u001b[0m\u001b[0;34m+\u001b[0m\u001b[0mX4\u001b[0m\u001b[0;34m+\u001b[0m\u001b[0mX5\u001b[0m\u001b[0;34m\u001b[0m\u001b[0;34m\u001b[0m\u001b[0m\n\u001b[0;32m----> 7\u001b[0;31m \u001b[0mszz\u001b[0m\u001b[0;34m=\u001b[0m\u001b[0mX\u001b[0m\u001b[0;34m.\u001b[0m\u001b[0mgetsizeof\u001b[0m\u001b[0;34m(\u001b[0m\u001b[0;34m)\u001b[0m\u001b[0;34m\u001b[0m\u001b[0;34m\u001b[0m\u001b[0m\n\u001b[0m\u001b[1;32m      8\u001b[0m \u001b[0my\u001b[0m \u001b[0;34m=\u001b[0m \u001b[0mdf\u001b[0m\u001b[0;34m.\u001b[0m\u001b[0mvalues\u001b[0m\u001b[0;34m[\u001b[0m\u001b[0;34m:\u001b[0m\u001b[0;34m,\u001b[0m \u001b[0;36m0\u001b[0m\u001b[0;34m]\u001b[0m  \u001b[0;31m# get output values from 1st column.house price\u001b[0m\u001b[0;34m\u001b[0m\u001b[0;34m\u001b[0m\u001b[0m\n\u001b[1;32m      9\u001b[0m \u001b[0mm\u001b[0m \u001b[0;34m=\u001b[0m \u001b[0mlen\u001b[0m\u001b[0;34m(\u001b[0m\u001b[0my\u001b[0m\u001b[0;34m)\u001b[0m \u001b[0;31m# Number of training examples\u001b[0m\u001b[0;34m\u001b[0m\u001b[0;34m\u001b[0m\u001b[0m\n",
            "\u001b[0;31mAttributeError\u001b[0m: 'numpy.ndarray' object has no attribute 'getsizeof'"
          ]
        }
      ]
    },
    {
      "cell_type": "code",
      "source": [
        "\n",
        "#X = df.values[:, 0]  # get input values from first column \n",
        "#y = df.values[:, 1]  # get output values from second column \n",
        "#m = len(y) # Number of training examples \n",
        "#print('X = ', X[: 97]) # Show only first 5 records \n",
        "#print('y = ', y[: 97]) \n",
        "#print('m = ', m) "
      ],
      "metadata": {
        "id": "EdC2y08GDnmV"
      },
      "execution_count": null,
      "outputs": []
    },
    {
      "cell_type": "code",
      "source": [
        "plt.scatter(X,y, color='red',marker= '+') \n",
        "plt.grid() \n",
        "plt.rcParams[\"figure.figsize\"] = (10,6) \n",
        "plt.xlabel('X') \n",
        "plt.ylabel('House Price') \n",
        "plt.title('Scatter plot of training data') "
      ],
      "metadata": {
        "id": "ywZP07_KDnpF",
        "colab": {
          "base_uri": "https://localhost:8080/",
          "height": 421
        },
        "outputId": "939a740c-e54e-4837-fdb3-0f7ee0e9bce0"
      },
      "execution_count": null,
      "outputs": [
        {
          "output_type": "execute_result",
          "data": {
            "text/plain": [
              "Text(0.5, 1.0, 'Scatter plot of training data')"
            ]
          },
          "metadata": {},
          "execution_count": 184
        },
        {
          "output_type": "display_data",
          "data": {
            "text/plain": [
              "<Figure size 720x432 with 1 Axes>"
            ],
            "image/png": "[encoded data removed]"
          },
          "metadata": {
            "needs_background": "light"
          }
        }
      ]
    },
    {
      "cell_type": "code",
      "source": [
        "#Lets create a matrix with single column of ones \n",
        "X_0 = np.ones((m, 1)) \n",
        "X_0[:5] "
      ],
      "metadata": {
        "id": "OHyt7rMRDnrt",
        "colab": {
          "base_uri": "https://localhost:8080/"
        },
        "outputId": "dede4136-b702-470b-b599-5be34de88a30"
      },
      "execution_count": null,
      "outputs": [
        {
          "output_type": "execute_result",
          "data": {
            "text/plain": [
              "array([[1.],\n",
              "       [1.],\n",
              "       [1.],\n",
              "       [1.],\n",
              "       [1.]])"
            ]
          },
          "metadata": {},
          "execution_count": 185
        }
      ]
    },
    {
      "cell_type": "code",
      "source": [
        "# Using reshape function convert X 1D array to 2D array of dimension mx1 \n",
        "X_1 = X.reshape(m, 1) \n",
        "X_1[:10] "
      ],
      "metadata": {
        "id": "huEXulIADnuN",
        "colab": {
          "base_uri": "https://localhost:8080/"
        },
        "outputId": "fefea5eb-2802-4381-ef06-84885f4a7081"
      },
      "execution_count": null,
      "outputs": [
        {
          "output_type": "execute_result",
          "data": {
            "text/plain": [
              "array([[7431],\n",
              "       [8975],\n",
              "       [9969],\n",
              "       [7511],\n",
              "       [7429],\n",
              "       [7509],\n",
              "       [8593],\n",
              "       [16210],\n",
              "       [8109],\n",
              "       [5760]], dtype=object)"
            ]
          },
          "metadata": {},
          "execution_count": 186
        }
      ]
    },
    {
      "cell_type": "code",
      "source": [
        "# Lets use hstack() function from numpy to stack X_0 and X_1 horizontally (i.e. column \n",
        "# This will be our final X matrix (feature matrix) \n",
        "X = np.hstack((X_0, X_1)) \n",
        "X[:5] "
      ],
      "metadata": {
        "id": "bY48kO4kDnwk",
        "colab": {
          "base_uri": "https://localhost:8080/"
        },
        "outputId": "42da7551-3354-4fd7-87d8-b34c746033d8"
      },
      "execution_count": null,
      "outputs": [
        {
          "output_type": "execute_result",
          "data": {
            "text/plain": [
              "array([[1.0, 7431],\n",
              "       [1.0, 8975],\n",
              "       [1.0, 9969],\n",
              "       [1.0, 7511],\n",
              "       [1.0, 7429]], dtype=object)"
            ]
          },
          "metadata": {},
          "execution_count": 187
        }
      ]
    },
    {
      "cell_type": "code",
      "source": [
        "theta = np.zeros(2) \n",
        "theta "
      ],
      "metadata": {
        "id": "kkzJfn76Dny2",
        "colab": {
          "base_uri": "https://localhost:8080/"
        },
        "outputId": "2849591a-7c24-444c-b090-ff8324c8b21e"
      },
      "execution_count": null,
      "outputs": [
        {
          "output_type": "execute_result",
          "data": {
            "text/plain": [
              "array([0., 0.])"
            ]
          },
          "metadata": {},
          "execution_count": 188
        }
      ]
    },
    {
      "cell_type": "code",
      "source": [
        "def compute_cost(X, y, theta): \n",
        "  \"\"\" \n",
        "  Compute cost for linear regression. \n",
        " \n",
        "  Input Parameters \n",
        "  ---------------- \n",
        "  X : 2D array where each row represent the training example and each column represent \n",
        "      m= number of training examples \n",
        "      n= number of features (including X_0 column of ones) \n",
        "  y : 1D array of labels/target value for each traing example. dimension(1 x m) \n",
        " \n",
        "  theta : 1D array of fitting parameters or weights. Dimension (1 x n) \n",
        " \n",
        "  Output Parameters \n",
        "  ----------------- \n",
        "  J : Scalar value. \n",
        "  \"\"\" \n",
        "  predictions = X.dot(theta) \n",
        "  errors = np.subtract(predictions, y) \n",
        "  sqrErrors = np.square(errors) \n",
        "  J = 1 / (2 * m) * np.sum(sqrErrors) \n",
        " \n",
        "  return J "
      ],
      "metadata": {
        "id": "_g5fyl2nDn1V"
      },
      "execution_count": null,
      "outputs": []
    },
    {
      "cell_type": "code",
      "source": [
        "\n",
        "# Lets compute the cost for theta values \n",
        "cost = compute_cost(X, y, theta) \n",
        "print('The cost for given values of theta_0 and theta_1 =', cost) "
      ],
      "metadata": {
        "id": "amd54FoLDn3t",
        "colab": {
          "base_uri": "https://localhost:8080/"
        },
        "outputId": "1562a66e-b1e7-4cca-f90c-5d04c95191c8"
      },
      "execution_count": null,
      "outputs": [
        {
          "output_type": "stream",
          "name": "stdout",
          "text": [
            "The cost for given values of theta_0 and theta_1 = 13106916364659.268\n"
          ]
        }
      ]
    },
    {
      "cell_type": "code",
      "source": [
        "def gradient_descent(X, y, theta, alpha, iterations): \n",
        "  \"\"\" \n",
        "  Compute cost for linear regression. \n",
        " \n",
        "  Input Parameters \n",
        "  ---------------- \n",
        "  X : 2D array where each row represent the training example and each column represent \n",
        "      m= number of training examples \n",
        "      n= number of features (including X_0 column of ones) \n",
        "  y : 1D array of labels/target value for each traing example. dimension(m x 1) \n",
        "  theta : 1D array of fitting parameters or weights. Dimension (1 x n) \n",
        "  alpha : Learning rate. Scalar value \n",
        "  iterations: No of iterations. Scalar value.  \n",
        " \n",
        "  Output Parameters \n",
        "  ----------------- \n",
        "  theta : Final Value. 1D array of fitting parameters or weights. Dimension (1 x n) \n",
        "  cost_history: Conatins value of cost for each iteration. 1D array. Dimansion(m x 1) \n",
        "  \"\"\" \n",
        "  cost_history = np.zeros(iterations) \n",
        " \n",
        "  for i in range(iterations): \n",
        "    predictions = X.dot(theta) \n",
        "    errors = np.subtract(predictions, y) \n",
        "    sum_delta = (alpha / m) * X.transpose().dot(errors); \n",
        "    theta = theta - sum_delta; \n",
        "    cost_history[i] = compute_cost(X, y, theta)   \n",
        " \n",
        "  return theta, cost_history "
      ],
      "metadata": {
        "id": "S-PIRad7Dn6N"
      },
      "execution_count": null,
      "outputs": []
    },
    {
      "cell_type": "code",
      "source": [
        "theta = [0., 0.] \n",
        "iterations = 1500; \n",
        "alpha = 0.05; "
      ],
      "metadata": {
        "id": "14lS5odQDn8l"
      },
      "execution_count": null,
      "outputs": []
    },
    {
      "cell_type": "code",
      "source": [
        "theta, cost_history = gradient_descent(X, y, theta, alpha, iterations) \n",
        "print('Final value of theta =', theta) \n",
        "print('cost_history =', cost_history) "
      ],
      "metadata": {
        "id": "ZdnZcPb9Dn_G",
        "colab": {
          "base_uri": "https://localhost:8080/"
        },
        "outputId": "d53bd5db-ca92-4fb8-fae0-2c02c0ebd157"
      },
      "execution_count": null,
      "outputs": [
        {
          "output_type": "stream",
          "name": "stderr",
          "text": [
            "/usr/local/lib/python3.7/dist-packages/ipykernel_launcher.py:20: RuntimeWarning: overflow encountered in square\n",
            "/usr/local/lib/python3.7/dist-packages/ipykernel_launcher.py:26: RuntimeWarning: invalid value encountered in subtract\n"
          ]
        },
        {
          "output_type": "stream",
          "name": "stdout",
          "text": [
            "Final value of theta = [nan nan]\n",
            "cost_history = [2.80127757e+25 6.86142123e+37 1.68062965e+50 ...            nan\n",
            "            nan            nan]\n"
          ]
        }
      ]
    },
    {
      "cell_type": "code",
      "source": [
        "# Since X is list of list (feature matrix) lets take values of column of index 1 only \n",
        "plt.scatter(X[:,1], y, color='red', marker= '+', label= 'Training Data') \n",
        "plt.plot(X[:,1],X.dot(theta), color='green', label='Linear Regression') \n",
        " \n",
        "plt.rcParams[\"figure.figsize\"] = (10,6) \n",
        "plt.grid() \n",
        "plt.xlabel('X') \n",
        "plt.ylabel('Y') \n",
        "plt.title('Linear Regression Fit') \n",
        "plt.legend() "
      ],
      "metadata": {
        "id": "a6l-ubXqDoBd",
        "colab": {
          "base_uri": "https://localhost:8080/",
          "height": 421
        },
        "outputId": "1c6d8493-ae1b-4385-cc7e-33196135db2d"
      },
      "execution_count": null,
      "outputs": [
        {
          "output_type": "execute_result",
          "data": {
            "text/plain": [
              "<matplotlib.legend.Legend at 0x7f3cbdc26a50>"
            ]
          },
          "metadata": {},
          "execution_count": 194
        },
        {
          "output_type": "display_data",
          "data": {
            "text/plain": [
              "<Figure size 720x432 with 1 Axes>"
            ],
            "image/png": "[encoded data removed]"
          },
          "metadata": {
            "needs_background": "light"
          }
        }
      ]
    },
    {
      "cell_type": "code",
      "source": [
        "plt.plot(range(1, iterations + 1),cost_history, color='blue') \n",
        "plt.rcParams[\"figure.figsize\"] = (10,6) \n",
        "plt.grid() \n",
        "plt.xlabel('Number of iterations') \n",
        "plt.ylabel('Cost (J)') \n",
        "plt.title('Convergence of gradient descent') "
      ],
      "metadata": {
        "id": "CMf3jvVIDoDl",
        "colab": {
          "base_uri": "https://localhost:8080/",
          "height": 421
        },
        "outputId": "9863b712-4fd8-492d-920f-f68a3d280889"
      },
      "execution_count": null,
      "outputs": [
        {
          "output_type": "execute_result",
          "data": {
            "text/plain": [
              "Text(0.5, 1.0, 'Convergence of gradient descent')"
            ]
          },
          "metadata": {},
          "execution_count": 195
        },
        {
          "output_type": "display_data",
          "data": {
            "text/plain": [
              "<Figure size 720x432 with 1 Axes>"
            ],
            "image/png": "[encoded data removed]"
          },
          "metadata": {
            "needs_background": "light"
          }
        }
      ]
    }
  ]
}