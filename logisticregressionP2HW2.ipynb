{
  "nbformat": 4,
  "nbformat_minor": 0,
  "metadata": {
    "colab": {
      "provenance": [],
      "collapsed_sections": [],
      "authorship_tag": "ABX9TyPWhu5QX27YT3U45QJOmBN0",
      "include_colab_link": true
    },
    "kernelspec": {
      "name": "python3",
      "display_name": "Python 3"
    },
    "language_info": {
      "name": "python"
    }
  },
  "cells": [
    {
      "cell_type": "markdown",
      "metadata": {
        "id": "view-in-github",
        "colab_type": "text"
      },
      "source": [
        "<a href=\"https://colab.research.google.com/github/curiasuncc/4105-Intro-To-ML/blob/main/logisticregressionP2HW2.ipynb\" target=\"_parent\"><img src=\"https://colab.research.google.com/assets/colab-badge.svg\" alt=\"Open In Colab\"/></a>"
      ]
    },
    {
      "cell_type": "code",
      "execution_count": 14,
      "metadata": {
        "id": "i1UOhuKUDRic"
      },
      "outputs": [],
      "source": [
        "#importing the necessary variables\n",
        "import numpy as np \n",
        "import pandas as pd\n",
        "import matplotlib.pyplot as plt\n",
        "from sklearn.model_selection import KFold\n",
        "from sklearn.model_selection import cross_val_score\n",
        "from sklearn.linear_model import LogisticRegression\n",
        "from sklearn import datasets\n",
        "from sklearn.preprocessing import Normalizer\n",
        "from sklearn.preprocessing import StandardScaler\n",
        "from sklearn.metrics import confusion_matrix\n",
        "from sklearn.metrics import classification_report\n",
        "from sklearn.model_selection import train_test_split"
      ]
    },
    {
      "cell_type": "code",
      "source": [
        "#load the iris dataset\n",
        "#iris=datasets.load_iris()\n",
        "\n",
        "#create x from the features\n",
        "#X=iris.data\n",
        "#create Y from output\n",
        "#y=iris.target\n"
      ],
      "metadata": {
        "id": "PtWkyenjDUJ5"
      },
      "execution_count": 15,
      "outputs": []
    },
    {
      "cell_type": "code",
      "source": [
        "dataset = pd.read_csv('/content/diabetes.csv') "
      ],
      "metadata": {
        "id": "hWmvgupuLh0e"
      },
      "execution_count": 16,
      "outputs": []
    },
    {
      "cell_type": "code",
      "source": [
        "X = dataset.iloc[:, [0,1,2,3,4,5,6,7]].values #all variables in dataset\n",
        "y = dataset.iloc[:, 8].values   #outcome values "
      ],
      "metadata": {
        "id": "DiBe1ME6dcSG"
      },
      "execution_count": 17,
      "outputs": []
    },
    {
      "cell_type": "code",
      "source": [
        "X_train, X_test, y_train, y_test =train_test_split(X,y,test_size=0.2,random_state=0)"
      ],
      "metadata": {
        "id": "DaMXwQreDUMa"
      },
      "execution_count": 18,
      "outputs": []
    },
    {
      "cell_type": "code",
      "source": [
        "#create a scalar object\n",
        "sc=StandardScaler()\n",
        "\n",
        "#Fit the scaler to the training data and transform\n",
        "X_train_std=sc.fit_transform(X_train)\n",
        "\n",
        "#apply the scaler to the test data\n",
        "X_test_std =sc.transform(X_test)"
      ],
      "metadata": {
        "id": "tbkY-N2_DUO-"
      },
      "execution_count": 19,
      "outputs": []
    },
    {
      "cell_type": "code",
      "source": [
        "C=[10,1,.1,.001]\n",
        "for c in C:\n",
        "  clf=LogisticRegression(penalty='l1',C=c,solver='liblinear')\n",
        "  clf.fit(X_train,y_train)\n",
        "  print('C:',c)\n",
        "  print('training accuracy:',clf.score(X_train_std,y_train))\n",
        "  print('test accuracy:',clf.score(X_test_std,y_test))\n",
        "  print('')\n"
      ],
      "metadata": {
        "colab": {
          "base_uri": "https://localhost:8080/"
        },
        "id": "BKJ4RT_TDURU",
        "outputId": "b03cb4b2-951a-4446-ca4c-264728d85133"
      },
      "execution_count": 20,
      "outputs": [
        {
          "output_type": "stream",
          "name": "stdout",
          "text": [
            "C: 10\n",
            "training accuracy: 0.6400651465798045\n",
            "test accuracy: 0.6948051948051948\n",
            "\n",
            "C: 1\n",
            "training accuracy: 0.6400651465798045\n",
            "test accuracy: 0.6948051948051948\n",
            "\n",
            "C: 0.1\n",
            "training accuracy: 0.6400651465798045\n",
            "test accuracy: 0.6948051948051948\n",
            "\n",
            "C: 0.001\n",
            "training accuracy: 0.5195439739413681\n",
            "test accuracy: 0.5064935064935064\n",
            "\n"
          ]
        }
      ]
    },
    {
      "cell_type": "code",
      "source": [
        "#5 fold selcted\n",
        "kfold=KFold(n_splits=5,random_state=0,shuffle=True)\n",
        "model=LogisticRegression(solver='liblinear')\n",
        "results= cross_val_score(model,X,y,cv=kfold)\n",
        "#output the accuracy calculate the mean and std across all folds\n",
        "print(\"accuracy: %.3f%% (%.3f%%)\" %(results.mean()*100.0,results.std()*100.0))"
      ],
      "metadata": {
        "colab": {
          "base_uri": "https://localhost:8080/"
        },
        "id": "w23PCq7_DUTk",
        "outputId": "044c90ef-2052-4271-8cc8-0d823928d2b1"
      },
      "execution_count": 21,
      "outputs": [
        {
          "output_type": "stream",
          "name": "stdout",
          "text": [
            "accuracy: 76.555% (3.185%)\n"
          ]
        }
      ]
    },
    {
      "cell_type": "code",
      "source": [
        "#constrruct a confusion matrix\n",
        "from sklearn.model_selection import train_test_split\n",
        "test_size=0.33\n",
        "seed=0\n",
        "X_train,X_test,Y_train,Y_test=train_test_split(X,y,test_size=test_size,random_state=seed)\n",
        "model=LogisticRegression(solver='liblinear')\n",
        "model.fit(X_train,Y_train)\n",
        "predicted=model.predict(X_test)\n",
        "matrix=confusion_matrix(Y_test,predicted)\n",
        "print(matrix)"
      ],
      "metadata": {
        "colab": {
          "base_uri": "https://localhost:8080/"
        },
        "id": "zZ1VJQfPDUWC",
        "outputId": "c68a7bd9-a49e-451e-f9a9-aa782741baec"
      },
      "execution_count": 22,
      "outputs": [
        {
          "output_type": "stream",
          "name": "stdout",
          "text": [
            "[[156  14]\n",
            " [ 39  45]]\n"
          ]
        }
      ]
    },
    {
      "cell_type": "code",
      "source": [
        "#constrruct a confusion matrix\n",
        "from sklearn.model_selection import train_test_split\n",
        "test_size=0.33\n",
        "seed=0\n",
        "X_train,X_test,Y_train,Y_test=train_test_split(X,y,test_size=test_size,random_state=seed)\n",
        "model=LogisticRegression(solver='liblinear')\n",
        "model.fit(X_train,Y_train)\n",
        "predicted=model.predict(X_test)\n",
        "matrix=confusion_matrix(Y_test,predicted)\n",
        "report= classification_report(Y_test,predicted)\n",
        "print(report)\n"
      ],
      "metadata": {
        "colab": {
          "base_uri": "https://localhost:8080/"
        },
        "id": "QfnzV2KjDUYa",
        "outputId": "d0443983-9a24-4da3-8aa6-6392611f2336"
      },
      "execution_count": 23,
      "outputs": [
        {
          "output_type": "stream",
          "name": "stdout",
          "text": [
            "              precision    recall  f1-score   support\n",
            "\n",
            "           0       0.80      0.92      0.85       170\n",
            "           1       0.76      0.54      0.63        84\n",
            "\n",
            "    accuracy                           0.79       254\n",
            "   macro avg       0.78      0.73      0.74       254\n",
            "weighted avg       0.79      0.79      0.78       254\n",
            "\n"
          ]
        }
      ]
    },
    {
      "cell_type": "code",
      "source": [
        "#visualize results of the model in form of confusion matrix\n",
        "#will use heatmap for this\n",
        "import seaborn as sns\n",
        "from matplotlib.colors import ListedColormap\n",
        "class_names=[0,1] #number of classes\n",
        "fig, ax=plt.subplots()\n",
        "tick_marks=np.arange(len(class_names))\n",
        "plt.xticks(tick_marks,class_names)\n",
        "plt.yticks(tick_marks,class_names)\n",
        "#create heatmap\n",
        "sns.heatmap(pd.DataFrame(matrix),annot=True,cmap=\"YlGnBu\",fmt='g')\n",
        "ax.xaxis.set_label_position(\"top\")\n",
        "plt.tight_layout()\n",
        "plt.title('confusion matrix',y=1.1)\n",
        "plt.ylabel('actual label')\n",
        "plt.xlabel('predicted label')"
      ],
      "metadata": {
        "colab": {
          "base_uri": "https://localhost:8080/",
          "height": 342
        },
        "id": "pCfX_5KFDUav",
        "outputId": "529b737f-b412-4c49-aac9-55c00cf238e4"
      },
      "execution_count": 24,
      "outputs": [
        {
          "output_type": "execute_result",
          "data": {
            "text/plain": [
              "Text(0.5, 257.44, 'predicted label')"
            ]
          },
          "metadata": {},
          "execution_count": 24
        },
        {
          "output_type": "display_data",
          "data": {
            "text/plain": [
              "<Figure size 432x288 with 2 Axes>"
            ],
            "image/png": "[encoded data removed]"
          },
          "metadata": {
            "needs_background": "light"
          }
        }
      ]
    },
    {
      "cell_type": "code",
      "source": [],
      "metadata": {
        "id": "921POkgDDUdG"
      },
      "execution_count": null,
      "outputs": []
    },
    {
      "cell_type": "code",
      "source": [],
      "metadata": {
        "id": "D8OrnVcIDUfe"
      },
      "execution_count": null,
      "outputs": []
    },
    {
      "cell_type": "code",
      "source": [],
      "metadata": {
        "id": "6Jd1PSLKDUh6"
      },
      "execution_count": null,
      "outputs": []
    },
    {
      "cell_type": "code",
      "source": [],
      "metadata": {
        "id": "7kOzZkS6DUkN"
      },
      "execution_count": null,
      "outputs": []
    }
  ]
}