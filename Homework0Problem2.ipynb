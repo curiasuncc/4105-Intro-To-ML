{
  "cells": [
    {
      "cell_type": "markdown",
      "metadata": {
        "id": "view-in-github",
        "colab_type": "text"
      },
      "source": [
        "<a href=\"https://colab.research.google.com/github/curiasuncc/4105-Intro-To-ML/blob/main/Homework0Problem2.ipynb\" target=\"_parent\"><img src=\"https://colab.research.google.com/assets/colab-badge.svg\" alt=\"Open In Colab\"/></a>"
      ]
    },
    {
      "cell_type": "code",
      "execution_count": 434,
      "id": "0a986e55",
      "metadata": {
        "id": "0a986e55"
      },
      "outputs": [],
      "source": [
        "import numpy as np \n",
        "import pandas as pd \n",
        "import matplotlib.pyplot as plt "
      ]
    },
    {
      "cell_type": "code",
      "execution_count": 435,
      "id": "0c4d549b",
      "metadata": {
        "colab": {
          "base_uri": "https://localhost:8080/"
        },
        "id": "0c4d549b",
        "outputId": "02dde465-821a-4c08-fe03-34f48b615c60"
      },
      "outputs": [
        {
          "output_type": "execute_result",
          "data": {
            "text/plain": [
              "100"
            ]
          },
          "metadata": {},
          "execution_count": 435
        }
      ],
      "source": [
        "df = pd.read_csv('/content/D3.csv')\n",
        "df.head() # To get first n rows from the dataset default value of n is 5 \n",
        "M=len(df) \n",
        "M "
      ]
    },
    {
      "cell_type": "code",
      "source": [],
      "metadata": {
        "id": "g-3ZJwakC6jF"
      },
      "id": "g-3ZJwakC6jF",
      "execution_count": 435,
      "outputs": []
    },
    {
      "cell_type": "code",
      "execution_count": 436,
      "id": "ccde5040",
      "metadata": {
        "colab": {
          "base_uri": "https://localhost:8080/"
        },
        "id": "ccde5040",
        "outputId": "15b65294-7e10-4ae4-e5cb-d92f32c8a93c"
      },
      "outputs": [
        {
          "output_type": "stream",
          "name": "stdout",
          "text": [
            "X =  [3.88       1.06383838 2.24767677 3.43151515 4.61535354]\n",
            "y =  [4.38754501 2.6796499  2.96848981 3.25406475 3.53637472]\n",
            "m =  100\n"
          ]
        }
      ],
      "source": [
        "X1 = df.values[:, 0]  # get input values from first column X1\n",
        "X2 = df.values[:, 1]  # get input values from first column X2\n",
        "X3 = df.values[:, 2]  # get input values from first column X3\n",
        "X=X1+X2+X3\n",
        "y = df.values[:, 3]  # get output values from fourth column y\n",
        "m = len(y) # Number of training examples \n",
        "print('X = ', X[: 5]) # Show only first 5 records \n",
        "print('y = ', y[: 5]) \n",
        "print('m = ', m) "
      ]
    },
    {
      "cell_type": "code",
      "execution_count": 437,
      "id": "f7944d4e",
      "metadata": {
        "id": "f7944d4e"
      },
      "outputs": [],
      "source": [
        "#X = df.values[:, 0]  # get input values from first column \n",
        "#y = df.values[:, 3]  # get output values from fourth column y\n",
        "#m = len(y) # Number of training examples \n",
        "#print('X = ', X[: 97]) # Show only first 97 records \n",
        "#print('y = ', y[: 97]) \n",
        "#print('m = ', m) "
      ]
    },
    {
      "cell_type": "code",
      "execution_count": 438,
      "id": "f0c53340",
      "metadata": {
        "colab": {
          "base_uri": "https://localhost:8080/",
          "height": 421
        },
        "id": "f0c53340",
        "outputId": "28243636-19cd-4deb-cd39-645f3c4f8de5"
      },
      "outputs": [
        {
          "output_type": "execute_result",
          "data": {
            "text/plain": [
              "Text(0.5, 1.0, 'Scatter plot of training data')"
            ]
          },
          "metadata": {},
          "execution_count": 438
        },
        {
          "output_type": "display_data",
          "data": {
            "text/plain": [
              "<Figure size 720x432 with 1 Axes>"
            ],
            "image/png": "[encoded data removed]"
          },
          "metadata": {
            "needs_background": "light"
          }
        }
      ],
      "source": [
        "#change plot labels\n",
        "\n",
        "\n",
        "plt.scatter(X,y, color='red',marker= '+') \n",
        "plt.grid() \n",
        "plt.rcParams[\"figure.figsize\"] = (10,6) \n",
        "plt.xlabel('X1') \n",
        "plt.ylabel('Y') \n",
        "plt.title('Scatter plot of training data') "
      ]
    },
    {
      "cell_type": "code",
      "execution_count": 439,
      "id": "ec82a8c8",
      "metadata": {
        "colab": {
          "base_uri": "https://localhost:8080/"
        },
        "id": "ec82a8c8",
        "outputId": "1a197e4f-1437-42fd-8296-5cd473b85343"
      },
      "outputs": [
        {
          "output_type": "execute_result",
          "data": {
            "text/plain": [
              "array([[1.],\n",
              "       [1.],\n",
              "       [1.],\n",
              "       [1.],\n",
              "       [1.]])"
            ]
          },
          "metadata": {},
          "execution_count": 439
        }
      ],
      "source": [
        "#Lets create a matrix with single column of ones \n",
        "X_0 = np.ones((m, 1)) \n",
        "X_0[:5] "
      ]
    },
    {
      "cell_type": "code",
      "execution_count": 440,
      "id": "7328a673",
      "metadata": {
        "colab": {
          "base_uri": "https://localhost:8080/"
        },
        "id": "7328a673",
        "outputId": "d4fb5918-184c-46d6-f0a1-80a6d96d252e"
      },
      "outputs": [
        {
          "output_type": "execute_result",
          "data": {
            "text/plain": [
              "array([[3.88      ],\n",
              "       [1.06383838],\n",
              "       [2.24767677],\n",
              "       [3.43151515],\n",
              "       [4.61535354],\n",
              "       [5.79919192],\n",
              "       [6.9830303 ],\n",
              "       [4.16686869],\n",
              "       [1.35070707],\n",
              "       [2.53454545]])"
            ]
          },
          "metadata": {},
          "execution_count": 440
        }
      ],
      "source": [
        "\n",
        "# Using reshape function convert X 1D array to 2D array of dimension mx1 \n",
        "X_1 = X.reshape(m, 1) \n",
        "X_1[:10] #output first ten values"
      ]
    },
    {
      "cell_type": "code",
      "execution_count": 441,
      "id": "0068fae7",
      "metadata": {
        "colab": {
          "base_uri": "https://localhost:8080/"
        },
        "id": "0068fae7",
        "outputId": "1c6b90ed-b216-4465-f21b-e2e466cbc0e3"
      },
      "outputs": [
        {
          "output_type": "execute_result",
          "data": {
            "text/plain": [
              "array([[1.        , 3.88      ],\n",
              "       [1.        , 1.06383838],\n",
              "       [1.        , 2.24767677],\n",
              "       [1.        , 3.43151515],\n",
              "       [1.        , 4.61535354]])"
            ]
          },
          "metadata": {},
          "execution_count": 441
        }
      ],
      "source": [
        "# Lets use hstack() function from numpy to stack X_0 and X_1 horizontally (i.e. column \n",
        "# This will be our final X matrix (feature matrix) \n",
        "X = np.hstack((X_0, X_1)) \n",
        "X[:5] "
      ]
    },
    {
      "cell_type": "code",
      "execution_count": 442,
      "id": "0db8f1b9",
      "metadata": {
        "colab": {
          "base_uri": "https://localhost:8080/"
        },
        "id": "0db8f1b9",
        "outputId": "b42e1a01-b39e-4896-d3d5-e84ab5454496"
      },
      "outputs": [
        {
          "output_type": "execute_result",
          "data": {
            "text/plain": [
              "array([0., 0.])"
            ]
          },
          "metadata": {},
          "execution_count": 442
        }
      ],
      "source": [
        "theta = np.zeros(2) \n",
        "theta "
      ]
    },
    {
      "cell_type": "code",
      "execution_count": 443,
      "id": "26aa2394",
      "metadata": {
        "id": "26aa2394"
      },
      "outputs": [],
      "source": [
        "\n",
        "def compute_cost(X, y, theta): \n",
        "  \"\"\" \n",
        "  Compute cost for linear regression. \n",
        " \n",
        "  Input Parameters \n",
        "  ---------------- \n",
        "  X : 2D array where each row represent the training example and each column represent \n",
        "      m= number of training examples \n",
        "      n= number of features (including X_0 column of ones) \n",
        "  y : 1D array of labels/target value for each traing example. dimension(1 x m) \n",
        " \n",
        "  theta : 1D array of fitting parameters or weights. Dimension (1 x n) \n",
        " \n",
        "  Output Parameters \n",
        "  ----------------- \n",
        "  J : Scalar value. \n",
        "  \"\"\" \n",
        "  predictions = X.dot(theta) \n",
        "  errors = np.subtract(predictions, y) \n",
        "  sqrErrors = np.square(errors) \n",
        "  J = 1 / (2 * m) * np.sum(sqrErrors) \n",
        " \n",
        "  return J "
      ]
    },
    {
      "cell_type": "code",
      "execution_count": 444,
      "id": "4b92e336",
      "metadata": {
        "colab": {
          "base_uri": "https://localhost:8080/"
        },
        "id": "4b92e336",
        "outputId": "77834037-05a2-423e-a907-e117e4c2d71b"
      },
      "outputs": [
        {
          "output_type": "stream",
          "name": "stdout",
          "text": [
            "The cost for given values of theta_0 and theta_1 = 5.524438459196242\n"
          ]
        }
      ],
      "source": [
        "# Lets compute the cost for theta values \n",
        "cost = compute_cost(X, y, theta) \n",
        "print('The cost for given values of theta_0 and theta_1 =', cost) "
      ]
    },
    {
      "cell_type": "code",
      "execution_count": 445,
      "id": "f4b66d81",
      "metadata": {
        "id": "f4b66d81"
      },
      "outputs": [],
      "source": [
        "def gradient_descent(X, y, theta, alpha, iterations): \n",
        "  \"\"\" \n",
        "  Compute cost for linear regression. \n",
        " \n",
        "  Input Parameters \n",
        "  ---------------- \n",
        "  X : 2D array where each row represent the training example and each column represent \n",
        "      m= number of training examples \n",
        "      n= number of features (including X_0 column of ones) \n",
        "  y : 1D array of labels/target value for each traing example. dimension(m x 1) \n",
        "  theta : 1D array of fitting parameters or weights. Dimension (1 x n) \n",
        "  alpha : Learning rate. Scalar value \n",
        "  iterations: No of iterations. Scalar value.  \n",
        " \n",
        "  Output Parameters \n",
        "  ----------------- \n",
        "  theta : Final Value. 1D array of fitting parameters or weights. Dimension (1 x n) \n",
        "  cost_history: Conatins value of cost for each iteration. 1D array. Dimansion(m x 1)\"\"\"\n",
        "\n",
        "  cost_history = np.zeros(iterations) \n",
        " \n",
        "  for i in range(iterations): \n",
        "    predictions = X.dot(theta) \n",
        "    errors = np.subtract(predictions, y) \n",
        "    sum_delta = (alpha / m) * X.transpose().dot(errors); \n",
        "    theta = theta - sum_delta; \n",
        "    cost_history[i] = compute_cost(X, y, theta)   \n",
        " \n",
        "  return theta, cost_history \n",
        "  \n"
      ]
    },
    {
      "cell_type": "code",
      "execution_count": 446,
      "id": "fac759de",
      "metadata": {
        "id": "fac759de"
      },
      "outputs": [],
      "source": [
        "\n",
        "theta = [0., 0.] \n",
        "iterations = 1500; \n",
        "alpha = 0.04; "
      ]
    },
    {
      "cell_type": "code",
      "execution_count": 447,
      "id": "0a003e2c",
      "metadata": {
        "colab": {
          "base_uri": "https://localhost:8080/"
        },
        "id": "0a003e2c",
        "outputId": "338f40f7-b77b-45a1-c560-5f8fd192b565"
      },
      "outputs": [
        {
          "output_type": "stream",
          "name": "stdout",
          "text": [
            "Final value of theta = [ 5.64236026 -0.63627193]\n",
            "cost_history = [4.97028475 4.74419677 4.64702958 ... 2.94617341 2.94617336 2.94617331]\n"
          ]
        }
      ],
      "source": [
        "theta, cost_history = gradient_descent(X, y, theta, alpha, iterations) \n",
        "print('Final value of theta =', theta) \n",
        "print('cost_history =', cost_history) "
      ]
    },
    {
      "cell_type": "code",
      "execution_count": 448,
      "id": "9b26876c",
      "metadata": {
        "colab": {
          "base_uri": "https://localhost:8080/",
          "height": 421
        },
        "id": "9b26876c",
        "outputId": "ed515e2f-9bf8-4f08-aa74-81b0a4c6c399"
      },
      "outputs": [
        {
          "output_type": "execute_result",
          "data": {
            "text/plain": [
              "<matplotlib.legend.Legend at 0x7fb11464c610>"
            ]
          },
          "metadata": {},
          "execution_count": 448
        },
        {
          "output_type": "display_data",
          "data": {
            "text/plain": [
              "<Figure size 720x432 with 1 Axes>"
            ],
            "image/png": "[encoded data removed]"
          },
          "metadata": {
            "needs_background": "light"
          }
        }
      ],
      "source": [
        "# Since X is list of list (feature matrix) lets take values of column of index 1 only \n",
        "plt.scatter(X[:,1], y, color='red', marker= '+', label= 'Training Data') \n",
        "plt.plot(X[:,1],X.dot(theta), color='green', label='Linear Regression') \n",
        " \n",
        "plt.rcParams[\"figure.figsize\"] = (10,6) \n",
        "plt.grid() \n",
        "plt.xlabel('X') \n",
        "plt.ylabel('Y') \n",
        "plt.title('Linear Regression Fit') \n",
        "plt.legend() "
      ]
    },
    {
      "cell_type": "code",
      "execution_count": 449,
      "id": "76c6eef1",
      "metadata": {
        "colab": {
          "base_uri": "https://localhost:8080/",
          "height": 421
        },
        "id": "76c6eef1",
        "outputId": "32868b0a-f4ed-4185-b775-e610eb60ff3e"
      },
      "outputs": [
        {
          "output_type": "execute_result",
          "data": {
            "text/plain": [
              "Text(0.5, 1.0, 'Convergence of gradient descent')"
            ]
          },
          "metadata": {},
          "execution_count": 449
        },
        {
          "output_type": "display_data",
          "data": {
            "text/plain": [
              "<Figure size 720x432 with 1 Axes>"
            ],
            "image/png": "[encoded data removed]"
          },
          "metadata": {
            "needs_background": "light"
          }
        }
      ],
      "source": [
        "plt.plot(range(1, iterations + 1),cost_history, color='blue') \n",
        "plt.rcParams[\"figure.figsize\"] = (10,6) \n",
        "plt.grid() \n",
        "plt.xlabel('Number of iterations') \n",
        "plt.ylabel('Cost (J)') \n",
        "plt.title('Convergence of gradient descent') "
      ]
    },
    {
      "cell_type": "code",
      "source": [],
      "metadata": {
        "id": "VTvFDq6nAtFg"
      },
      "id": "VTvFDq6nAtFg",
      "execution_count": 449,
      "outputs": []
    },
    {
      "cell_type": "code",
      "source": [],
      "metadata": {
        "id": "8MX5u0bGAtNK"
      },
      "id": "8MX5u0bGAtNK",
      "execution_count": 449,
      "outputs": []
    }
  ],
  "metadata": {
    "kernelspec": {
      "display_name": "Python 3 (ipykernel)",
      "language": "python",
      "name": "python3"
    },
    "language_info": {
      "codemirror_mode": {
        "name": "ipython",
        "version": 3
      },
      "file_extension": ".py",
      "mimetype": "text/x-python",
      "name": "python",
      "nbconvert_exporter": "python",
      "pygments_lexer": "ipython3",
      "version": "3.9.7"
    },
    "colab": {
      "provenance": [],
      "collapsed_sections": [],
      "include_colab_link": true
    }
  },
  "nbformat": 4,
  "nbformat_minor": 5
}